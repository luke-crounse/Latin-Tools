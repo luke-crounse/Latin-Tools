{
 "cells": [
  {
   "cell_type": "markdown",
   "metadata": {},
   "source": [
    "# Configure\n",
    "\n",
    "* Load cltk"
   ]
  },
  {
   "cell_type": "code",
   "execution_count": 1,
   "metadata": {},
   "outputs": [
    {
     "name": "stderr",
     "output_type": "stream",
     "text": [
      "/usr/local/python/3.9.21/lib/python3.9/site-packages/tqdm/auto.py:21: TqdmWarning: IProgress not found. Please update jupyter and ipywidgets. See https://ipywidgets.readthedocs.io/en/stable/user_install.html\n",
      "  from .autonotebook import tqdm as notebook_tqdm\n"
     ]
    }
   ],
   "source": [
    "from cltk import NLP\n",
    "from cltk.languages.utils import get_lang\n",
    "\n",
    "#from unidecode import unidecode\n",
    "\n",
    "from pathlib import Path\n",
    "\n",
    "import pandas as pd"
   ]
  },
  {
   "cell_type": "code",
   "execution_count": 2,
   "metadata": {},
   "outputs": [
    {
     "name": "stdout",
     "output_type": "stream",
     "text": [
      "‎𐤀 CLTK version '1.4.0'. When using the CLTK in research, please cite: https://aclanthology.org/2021.acl-demo.3/\n",
      "\n",
      "Pipeline for language 'Latin' (ISO: 'lat'): `LatinNormalizeProcess`, `LatinStanzaProcess`, `LatinEmbeddingsProcess`, `StopsProcess`, `LatinLexiconProcess`.\n",
      "\n",
      "⸖ ``LatinStanzaProcess`` using Stanza model from the Stanford NLP Group: https://stanfordnlp.github.io/stanza/ . Please cite: https://arxiv.org/abs/2003.07082\n",
      "⸖ ``LatinEmbeddingsProcess`` using word2vec model by University of Oslo from http://vectors.nlpl.eu/ . Please cite: https://aclanthology.org/W17-0237/\n",
      "⸖ ``LatinLexiconProcess`` using Lewis's *An Elementary Latin Dictionary* (1890).\n",
      "\n",
      "⸎ To suppress these messages, instantiate ``NLP()`` with ``suppress_banner=True``.\n"
     ]
    }
   ],
   "source": [
    "# Initialize the Latin pipeline\n",
    "nlp = NLP(language=\"lat\")\n"
   ]
  },
  {
   "cell_type": "code",
   "execution_count": 14,
   "metadata": {},
   "outputs": [
    {
     "name": "stdout",
     "output_type": "stream",
     "text": [
      "[noun, noun, coordinating_conjunction, noun, punctuation, noun, pronoun, adjective, adposition, noun]\n",
      "['Arma', 'vir', 'que', 'cano', ',', 'Troiae', 'qui', 'primus', 'ab', 'oris']\n",
      "['arma', 'vir', 'que', 'canum', ',', 'troias', 'qui', 'primus', 'ab', 'oris']\n",
      "Word: Arma                 Lemma: arma\n",
      "Word: vir                  Lemma: vir\n",
      "Word: que                  Lemma: que\n",
      "Word: cano                 Lemma: canum\n",
      "Word: ,                    Lemma: ,\n",
      "Word: Troiae               Lemma: troias\n",
      "Word: qui                  Lemma: qui\n",
      "Word: primus               Lemma: primus\n",
      "Word: ab                   Lemma: ab\n",
      "Word: oris                 Lemma: oris\n"
     ]
    }
   ],
   "source": [
    "# Your Latin text\n",
    "latin_text = \"Arma virumque cano, Troiae qui primus ab oris\"\n",
    "\n",
    "# Process the text\n",
    "doc = nlp.analyze(text=latin_text)\n",
    "\n",
    "#print(doc.words)\n",
    "\n",
    "# Get lemmas\n",
    "lemmas = [word.lemma for word in doc.words]\n",
    "list_pos = [word.pos for word in doc.words]\n",
    "\n",
    "list_words = [word.string for word in doc.words]\n",
    "\n",
    "print(list_pos)\n",
    "print(list_words)\n",
    "print(lemmas)\n",
    "\n",
    "# Print original words and their lemmas\n",
    "for word, lemma in zip([word.string for word in doc.words], lemmas):\n",
    "   print(f\"Word: {word:<20} Lemma: {lemma}\")"
   ]
  },
  {
   "cell_type": "code",
   "execution_count": 17,
   "metadata": {},
   "outputs": [
    {
     "name": "stdout",
     "output_type": "stream",
     "text": [
      "../Files/pliny6_16_paragraph_1.txt\n"
     ]
    }
   ],
   "source": [
    "fn = Path('..') / 'Files' / 'pliny6_16_paragraph_1.txt'\n",
    "print(fn)"
   ]
  },
  {
   "cell_type": "code",
   "execution_count": 19,
   "metadata": {},
   "outputs": [
    {
     "name": "stdout",
     "output_type": "stream",
     "text": [
      "Petis ut tibi avunculi mei exitum scribam, quo verius tradere posteris possis. Gratias ago; nam video morti eius si celebretur a te immortalem gloriam esse propositam. 2 Quamvis enim pulcherrimarum clade terrarum, ut populi ut urbes memorabili casu, quasi semper victurus occiderit, quamvis ipse plurima opera et mansura condiderit, multum tamen perpetuitati eius scriptorum tuorum aeternitas addet. 3 Equidem beatos puto, quibus deorum munere datum est aut facere scribenda aut scribere legenda, beatissimos vero quibus utrumque. Horum in numero avunculus meus et suis libris et tuis erit. Quo libentius suscipio, deposco etiam quod iniungis.\n"
     ]
    }
   ],
   "source": [
    "with open(fn, 'r', encoding='utf-8') as file:\n",
    "   text = file.read()\n",
    "print(text)"
   ]
  },
  {
   "cell_type": "code",
   "execution_count": 20,
   "metadata": {},
   "outputs": [
    {
     "name": "stdout",
     "output_type": "stream",
     "text": [
      "[verb, subordinating_conjunction, pronoun, noun, determiner, noun, verb, punctuation, pronoun, adverb, verb, adjective, verb, punctuation, noun, verb, punctuation, particle, verb, noun, pronoun, subordinating_conjunction, verb, adposition, pronoun, adjective, noun, auxiliary, verb, punctuation, numeral, adverb, particle, adjective, noun, noun, punctuation, subordinating_conjunction, noun, subordinating_conjunction, noun, adjective, noun, punctuation, subordinating_conjunction, adverb, verb, verb, punctuation, subordinating_conjunction, determiner, determiner, noun, coordinating_conjunction, adjective, verb, punctuation, adverb, adverb, noun, pronoun, verb, determiner, noun, verb, punctuation, numeral, verb, adjective, verb, punctuation, pronoun, noun, noun, verb, auxiliary, coordinating_conjunction, verb, verb, coordinating_conjunction, verb, verb, punctuation, adjective, particle, pronoun, determiner, punctuation, determiner, adposition, noun, noun, determiner, coordinating_conjunction, determiner, noun, coordinating_conjunction, determiner, auxiliary, punctuation, pronoun, adverb, verb, punctuation, verb, adverb, subordinating_conjunction, verb, punctuation]\n",
      "['Petis', 'ut', 'tibi', 'avunculi', 'mei', 'exitum', 'scribam', ',', 'quo', 'verius', 'tradere', 'posteris', 'possis', '.', 'Gratias', 'ago', ';', 'nam', 'video', 'morti', 'eius', 'si', 'celebretur', 'a', 'te', 'immortalem', 'gloriam', 'esse', 'propositam', '.', '2', 'Quamvis', 'enim', 'pulcherrimarum', 'clade', 'terrarum', ',', 'ut', 'populi', 'ut', 'urbes', 'memorabili', 'casu', ',', 'quasi', 'semper', 'victurus', 'occiderit', ',', 'quamvis', 'ipse', 'plurima', 'opera', 'et', 'mansura', 'condiderit', ',', 'multum', 'tamen', 'perpetuitati', 'eius', 'scriptorum', 'tuorum', 'aeternitas', 'addet', '.', '3', 'Equidem', 'beatos', 'puto', ',', 'quibus', 'deorum', 'munere', 'datum', 'est', 'aut', 'facere', 'scribenda', 'aut', 'scribere', 'legenda', ',', 'beatissimos', 'vero', 'quibus', 'utrumque', '.', 'Horum', 'in', 'numero', 'avunculus', 'meus', 'et', 'suis', 'libris', 'et', 'tuis', 'erit', '.', 'Quo', 'libentius', 'suscipio', ',', 'deposco', 'etiam', 'quod', 'iniungis', '.']\n",
      "['pego', 'ut', 'tu', 'avunculus', 'meus', 'exitus', 'scribo', ',', 'qui', 'verius', 'trado', 'posterus', 'possum', '.', 'gratia', 'ago', ';', 'nam', 'video', 'mors', 'is', 'si', 'celebo', 'ab', 'tu', 'immortalis', 'gloria', 'sum', 'propono', '.', '2', 'Quamvis', 'enim', 'pulcherrimus', 'cladus', 'terra', ',', 'ut', 'populus', 'ut', 'urbes', 'memorabilis', 'casus', ',', 'quasi', 'semper', 'vingo', 'occido', ',', 'quamvis', 'ipse', 'multus', 'opus', 'et', 'mansus', 'condo', ',', 'multum', 'tamen', 'perpetuitas', 'is', 'scribo', 'tuus', 'aeternitas', 'addo', '.', '3', 'equido', 'beatus', 'puto', ',', 'qui', 'deus', 'munus', 'do', 'sum', 'aut', 'facio', 'scribo', 'aut', 'scribo', 'lego', ',', 'beatus', 'vero', 'qui', 'uterque', '.', 'hic', 'in', 'numerus', 'avunculus', 'meus', 'et', 'suus', 'liber', 'et', 'tuus', 'sum', '.', 'qui', 'libenter', 'suscipio', ',', 'deposco', 'etiam', 'quod', 'iniungo', '.']\n",
      "Word: Petis                Lemma: pego\n",
      "Word: ut                   Lemma: ut\n",
      "Word: tibi                 Lemma: tu\n",
      "Word: avunculi             Lemma: avunculus\n",
      "Word: mei                  Lemma: meus\n",
      "Word: exitum               Lemma: exitus\n",
      "Word: scribam              Lemma: scribo\n",
      "Word: ,                    Lemma: ,\n",
      "Word: quo                  Lemma: qui\n",
      "Word: verius               Lemma: verius\n",
      "Word: tradere              Lemma: trado\n",
      "Word: posteris             Lemma: posterus\n",
      "Word: possis               Lemma: possum\n",
      "Word: .                    Lemma: .\n",
      "Word: Gratias              Lemma: gratia\n",
      "Word: ago                  Lemma: ago\n",
      "Word: ;                    Lemma: ;\n",
      "Word: nam                  Lemma: nam\n",
      "Word: video                Lemma: video\n",
      "Word: morti                Lemma: mors\n",
      "Word: eius                 Lemma: is\n",
      "Word: si                   Lemma: si\n",
      "Word: celebretur           Lemma: celebo\n",
      "Word: a                    Lemma: ab\n",
      "Word: te                   Lemma: tu\n",
      "Word: immortalem           Lemma: immortalis\n",
      "Word: gloriam              Lemma: gloria\n",
      "Word: esse                 Lemma: sum\n",
      "Word: propositam           Lemma: propono\n",
      "Word: .                    Lemma: .\n",
      "Word: 2                    Lemma: 2\n",
      "Word: Quamvis              Lemma: Quamvis\n",
      "Word: enim                 Lemma: enim\n",
      "Word: pulcherrimarum       Lemma: pulcherrimus\n",
      "Word: clade                Lemma: cladus\n",
      "Word: terrarum             Lemma: terra\n",
      "Word: ,                    Lemma: ,\n",
      "Word: ut                   Lemma: ut\n",
      "Word: populi               Lemma: populus\n",
      "Word: ut                   Lemma: ut\n",
      "Word: urbes                Lemma: urbes\n",
      "Word: memorabili           Lemma: memorabilis\n",
      "Word: casu                 Lemma: casus\n",
      "Word: ,                    Lemma: ,\n",
      "Word: quasi                Lemma: quasi\n",
      "Word: semper               Lemma: semper\n",
      "Word: victurus             Lemma: vingo\n",
      "Word: occiderit            Lemma: occido\n",
      "Word: ,                    Lemma: ,\n",
      "Word: quamvis              Lemma: quamvis\n",
      "Word: ipse                 Lemma: ipse\n",
      "Word: plurima              Lemma: multus\n",
      "Word: opera                Lemma: opus\n",
      "Word: et                   Lemma: et\n",
      "Word: mansura              Lemma: mansus\n",
      "Word: condiderit           Lemma: condo\n",
      "Word: ,                    Lemma: ,\n",
      "Word: multum               Lemma: multum\n",
      "Word: tamen                Lemma: tamen\n",
      "Word: perpetuitati         Lemma: perpetuitas\n",
      "Word: eius                 Lemma: is\n",
      "Word: scriptorum           Lemma: scribo\n",
      "Word: tuorum               Lemma: tuus\n",
      "Word: aeternitas           Lemma: aeternitas\n",
      "Word: addet                Lemma: addo\n",
      "Word: .                    Lemma: .\n",
      "Word: 3                    Lemma: 3\n",
      "Word: Equidem              Lemma: equido\n",
      "Word: beatos               Lemma: beatus\n",
      "Word: puto                 Lemma: puto\n",
      "Word: ,                    Lemma: ,\n",
      "Word: quibus               Lemma: qui\n",
      "Word: deorum               Lemma: deus\n",
      "Word: munere               Lemma: munus\n",
      "Word: datum                Lemma: do\n",
      "Word: est                  Lemma: sum\n",
      "Word: aut                  Lemma: aut\n",
      "Word: facere               Lemma: facio\n",
      "Word: scribenda            Lemma: scribo\n",
      "Word: aut                  Lemma: aut\n",
      "Word: scribere             Lemma: scribo\n",
      "Word: legenda              Lemma: lego\n",
      "Word: ,                    Lemma: ,\n",
      "Word: beatissimos          Lemma: beatus\n",
      "Word: vero                 Lemma: vero\n",
      "Word: quibus               Lemma: qui\n",
      "Word: utrumque             Lemma: uterque\n",
      "Word: .                    Lemma: .\n",
      "Word: Horum                Lemma: hic\n",
      "Word: in                   Lemma: in\n",
      "Word: numero               Lemma: numerus\n",
      "Word: avunculus            Lemma: avunculus\n",
      "Word: meus                 Lemma: meus\n",
      "Word: et                   Lemma: et\n",
      "Word: suis                 Lemma: suus\n",
      "Word: libris               Lemma: liber\n",
      "Word: et                   Lemma: et\n",
      "Word: tuis                 Lemma: tuus\n",
      "Word: erit                 Lemma: sum\n",
      "Word: .                    Lemma: .\n",
      "Word: Quo                  Lemma: qui\n",
      "Word: libentius            Lemma: libenter\n",
      "Word: suscipio             Lemma: suscipio\n",
      "Word: ,                    Lemma: ,\n",
      "Word: deposco              Lemma: deposco\n",
      "Word: etiam                Lemma: etiam\n",
      "Word: quod                 Lemma: quod\n",
      "Word: iniungis             Lemma: iniungo\n",
      "Word: .                    Lemma: .\n"
     ]
    }
   ],
   "source": [
    "# Process the text\n",
    "doc = nlp.analyze(text=text)\n",
    "\n",
    "#print(doc.words)\n",
    "\n",
    "# Get lemmas\n",
    "lemmas = [word.lemma for word in doc.words]\n",
    "list_pos = [word.pos for word in doc.words]\n",
    "\n",
    "list_words = [word.string for word in doc.words]\n",
    "\n",
    "print(list_pos)\n",
    "print(list_words)\n",
    "print(lemmas)\n",
    "\n",
    "# Print original words and their lemmas\n",
    "for word, lemma in zip([word.string for word in doc.words], lemmas):\n",
    "   print(f\"Word: {word:<20} Lemma: {lemma}\")"
   ]
  }
 ],
 "metadata": {
  "kernelspec": {
   "display_name": "Python 3",
   "language": "python",
   "name": "python3"
  },
  "language_info": {
   "codemirror_mode": {
    "name": "ipython",
    "version": 3
   },
   "file_extension": ".py",
   "mimetype": "text/x-python",
   "name": "python",
   "nbconvert_exporter": "python",
   "pygments_lexer": "ipython3",
   "version": "3.9.21"
  }
 },
 "nbformat": 4,
 "nbformat_minor": 2
}
