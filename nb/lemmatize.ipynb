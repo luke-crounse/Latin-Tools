{
 "cells": [
  {
   "cell_type": "markdown",
   "metadata": {},
   "source": [
    "# Configure\n",
    "\n",
    "* Load cltk"
   ]
  },
  {
   "cell_type": "code",
   "execution_count": 1,
   "metadata": {},
   "outputs": [
    {
     "name": "stderr",
     "output_type": "stream",
     "text": [
      "/usr/local/python/3.9.21/lib/python3.9/site-packages/tqdm/auto.py:21: TqdmWarning: IProgress not found. Please update jupyter and ipywidgets. See https://ipywidgets.readthedocs.io/en/stable/user_install.html\n",
      "  from .autonotebook import tqdm as notebook_tqdm\n"
     ]
    }
   ],
   "source": [
    "from cltk import NLP\n",
    "from cltk.languages.utils import get_lang\n",
    "\n",
    "#from unidecode import unidecode\n",
    "\n",
    "from pathlib import Path\n",
    "\n",
    "import pandas as pd"
   ]
  },
  {
   "cell_type": "code",
   "execution_count": 2,
   "metadata": {},
   "outputs": [
    {
     "name": "stdout",
     "output_type": "stream",
     "text": [
      "‎𐤀 CLTK version '1.4.0'. When using the CLTK in research, please cite: https://aclanthology.org/2021.acl-demo.3/\n",
      "\n",
      "Pipeline for language 'Latin' (ISO: 'lat'): `LatinNormalizeProcess`, `LatinStanzaProcess`, `LatinEmbeddingsProcess`, `StopsProcess`, `LatinLexiconProcess`.\n",
      "\n",
      "⸖ ``LatinStanzaProcess`` using Stanza model from the Stanford NLP Group: https://stanfordnlp.github.io/stanza/ . Please cite: https://arxiv.org/abs/2003.07082\n",
      "⸖ ``LatinEmbeddingsProcess`` using word2vec model by University of Oslo from http://vectors.nlpl.eu/ . Please cite: https://aclanthology.org/W17-0237/\n",
      "⸖ ``LatinLexiconProcess`` using Lewis's *An Elementary Latin Dictionary* (1890).\n",
      "\n",
      "⸎ To suppress these messages, instantiate ``NLP()`` with ``suppress_banner=True``.\n"
     ]
    }
   ],
   "source": [
    "# Initialize the Latin pipeline\n",
    "nlp = NLP(language=\"lat\")\n"
   ]
  },
  {
   "cell_type": "code",
   "execution_count": 14,
   "metadata": {},
   "outputs": [
    {
     "name": "stdout",
     "output_type": "stream",
     "text": [
      "[noun, noun, coordinating_conjunction, noun, punctuation, noun, pronoun, adjective, adposition, noun]\n",
      "['Arma', 'vir', 'que', 'cano', ',', 'Troiae', 'qui', 'primus', 'ab', 'oris']\n",
      "['arma', 'vir', 'que', 'canum', ',', 'troias', 'qui', 'primus', 'ab', 'oris']\n",
      "Word: Arma                 Lemma: arma\n",
      "Word: vir                  Lemma: vir\n",
      "Word: que                  Lemma: que\n",
      "Word: cano                 Lemma: canum\n",
      "Word: ,                    Lemma: ,\n",
      "Word: Troiae               Lemma: troias\n",
      "Word: qui                  Lemma: qui\n",
      "Word: primus               Lemma: primus\n",
      "Word: ab                   Lemma: ab\n",
      "Word: oris                 Lemma: oris\n"
     ]
    }
   ],
   "source": [
    "# Your Latin text\n",
    "latin_text = \"Arma virumque cano, Troiae qui primus ab oris\"\n",
    "\n",
    "# Process the text\n",
    "doc = nlp.analyze(text=latin_text)\n",
    "\n",
    "#print(doc.words)\n",
    "\n",
    "# Get lemmas\n",
    "lemmas = [word.lemma for word in doc.words]\n",
    "list_pos = [word.pos for word in doc.words]\n",
    "\n",
    "list_words = [word.string for word in doc.words]\n",
    "\n",
    "print(list_pos)\n",
    "print(list_words)\n",
    "print(lemmas)\n",
    "\n",
    "# Print original words and their lemmas\n",
    "for word, lemma in zip([word.string for word in doc.words], lemmas):\n",
    "   print(f\"Word: {word:<20} Lemma: {lemma}\")"
   ]
  },
  {
   "cell_type": "code",
   "execution_count": null,
   "metadata": {},
   "outputs": [],
   "source": []
  }
 ],
 "metadata": {
  "kernelspec": {
   "display_name": "Python 3",
   "language": "python",
   "name": "python3"
  },
  "language_info": {
   "codemirror_mode": {
    "name": "ipython",
    "version": 3
   },
   "file_extension": ".py",
   "mimetype": "text/x-python",
   "name": "python",
   "nbconvert_exporter": "python",
   "pygments_lexer": "ipython3",
   "version": "3.9.21"
  }
 },
 "nbformat": 4,
 "nbformat_minor": 2
}
