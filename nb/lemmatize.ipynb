{
 "cells": [
  {
   "cell_type": "markdown",
   "metadata": {},
   "source": [
    "# Configure\n",
    "\n",
    "* Load cltk"
   ]
  },
  {
   "cell_type": "code",
   "execution_count": 1,
   "metadata": {},
   "outputs": [
    {
     "name": "stderr",
     "output_type": "stream",
     "text": [
      "/usr/local/python/3.9.21/lib/python3.9/site-packages/tqdm/auto.py:21: TqdmWarning: IProgress not found. Please update jupyter and ipywidgets. See https://ipywidgets.readthedocs.io/en/stable/user_install.html\n",
      "  from .autonotebook import tqdm as notebook_tqdm\n"
     ]
    }
   ],
   "source": [
    "from cltk import NLP\n",
    "from cltk.languages.utils import get_lang\n",
    "\n",
    "#from unidecode import unidecode\n",
    "\n",
    "from pathlib import Path\n",
    "\n",
    "import pandas as pd"
   ]
  },
  {
   "cell_type": "code",
   "execution_count": 2,
   "metadata": {},
   "outputs": [
    {
     "name": "stdout",
     "output_type": "stream",
     "text": [
      "‎𐤀 CLTK version '1.4.0'. When using the CLTK in research, please cite: https://aclanthology.org/2021.acl-demo.3/\n",
      "\n",
      "Pipeline for language 'Latin' (ISO: 'lat'): `LatinNormalizeProcess`, `LatinStanzaProcess`, `LatinEmbeddingsProcess`, `StopsProcess`, `LatinLexiconProcess`.\n",
      "\n",
      "⸖ ``LatinStanzaProcess`` using Stanza model from the Stanford NLP Group: https://stanfordnlp.github.io/stanza/ . Please cite: https://arxiv.org/abs/2003.07082\n",
      "⸖ ``LatinEmbeddingsProcess`` using word2vec model by University of Oslo from http://vectors.nlpl.eu/ . Please cite: https://aclanthology.org/W17-0237/\n",
      "⸖ ``LatinLexiconProcess`` using Lewis's *An Elementary Latin Dictionary* (1890).\n",
      "\n",
      "⸎ To suppress these messages, instantiate ``NLP()`` with ``suppress_banner=True``.\n"
     ]
    }
   ],
   "source": [
    "# Initialize the Latin pipeline\n",
    "nlp = NLP(language=\"lat\")\n"
   ]
  },
  {
   "cell_type": "markdown",
   "metadata": {},
   "source": [
    "# CLTK Test"
   ]
  },
  {
   "cell_type": "code",
   "execution_count": 3,
   "metadata": {},
   "outputs": [
    {
     "name": "stdout",
     "output_type": "stream",
     "text": [
      "[noun, verb, verb, punctuation, noun, pronoun, adjective, adposition, noun]\n",
      "['Arma', 'virumque', 'cano', ',', 'Troiae', 'qui', 'primus', 'ab', 'oris']\n",
      "['arma', 'viruoquor', 'cano', ',', 'troias', 'qui', 'primus', 'ab', 'oris']\n",
      "Word: Arma                 Lemma: arma\n",
      "Word: virumque             Lemma: viruoquor\n",
      "Word: cano                 Lemma: cano\n",
      "Word: ,                    Lemma: ,\n",
      "Word: Troiae               Lemma: troias\n",
      "Word: qui                  Lemma: qui\n",
      "Word: primus               Lemma: primus\n",
      "Word: ab                   Lemma: ab\n",
      "Word: oris                 Lemma: oris\n"
     ]
    }
   ],
   "source": [
    "# Your Latin text\n",
    "latin_text = \"Arma virumque cano, Troiae qui primus ab oris\"\n",
    "\n",
    "# Process the text\n",
    "doc = nlp.analyze(text=latin_text)\n",
    "\n",
    "#print(doc.words)\n",
    "\n",
    "# Get lemmas\n",
    "lemmas = [word.lemma for word in doc.words]\n",
    "list_pos = [word.pos for word in doc.words]\n",
    "\n",
    "list_words = [word.string for word in doc.words]\n",
    "\n",
    "print(list_pos)\n",
    "print(list_words)\n",
    "print(lemmas)\n",
    "\n",
    "# Print original words and their lemmas\n",
    "for word, lemma in zip([word.string for word in doc.words], lemmas):\n",
    "   print(f\"Word: {word:<20} Lemma: {lemma}\")"
   ]
  },
  {
   "cell_type": "markdown",
   "metadata": {},
   "source": [
    "# Load text files"
   ]
  },
  {
   "cell_type": "markdown",
   "metadata": {},
   "source": [
    "## Load Text"
   ]
  },
  {
   "cell_type": "code",
   "execution_count": 12,
   "metadata": {},
   "outputs": [
    {
     "name": "stdout",
     "output_type": "stream",
     "text": [
      "../Files/pliny6_16_paragraph_1.txt\n"
     ]
    }
   ],
   "source": [
    "fn = Path('..') / 'Files' / 'pliny6_16_paragraph_1.txt'\n",
    "print(fn)"
   ]
  },
  {
   "cell_type": "code",
   "execution_count": 13,
   "metadata": {},
   "outputs": [
    {
     "name": "stdout",
     "output_type": "stream",
     "text": [
      "Petis ut tibi avunculi mei exitum scribam, quo verius tradere posteris possis. Gratias ago; nam video morti eius si celebretur a te immortalem gloriam esse propositam. 2 Quamvis enim pulcherrimarum clade terrarum, ut populi ut urbes memorabili casu, quasi semper victurus occiderit, quamvis ipse plurima opera et mansura condiderit, multum tamen perpetuitati eius scriptorum tuorum aeternitas addet. 3 Equidem beatos puto, quibus deorum munere datum est aut facere scribenda aut scribere legenda, beatissimos vero quibus utrumque. Horum in numero avunculus meus et suis libris et tuis erit. Quo libentius suscipio, deposco etiam quod iniungis.\n"
     ]
    }
   ],
   "source": [
    "with open(fn, 'r', encoding='utf-8') as file:\n",
    "   text = file.read()\n",
    "print(text)"
   ]
  },
  {
   "cell_type": "markdown",
   "metadata": {},
   "source": [
    "## Load AP word list"
   ]
  },
  {
   "cell_type": "code",
   "execution_count": null,
   "metadata": {},
   "outputs": [],
   "source": [
    "import pandas as pd\n",
    "\n",
    "fn_ap = Path('..') / 'Files' / 'ap-latin-draft-course-framework-vocab-list.csv'\n",
    "\n",
    "df_ap_vocab = pd.read_csv(fn_ap)"
   ]
  },
  {
   "cell_type": "code",
   "execution_count": 18,
   "metadata": {},
   "outputs": [
    {
     "name": "stdout",
     "output_type": "stream",
     "text": [
      "                        Required Vocabulary  \\\n",
      "0                      —, suī, sibi, sē, sē   \n",
      "1                                ā, ab, abs   \n",
      "2                      abeō, -īre, iī, itum   \n",
      "3                       absum, abesse, āfuī   \n",
      "4      accēdō (adc-), -ere, -cessī, -cessum   \n",
      "..                                      ...   \n",
      "707                         voluptās, -ātis   \n",
      "708             volvō, -ere, volvī, volūtum   \n",
      "709  vōs, vestrum/vestrī, vōbīs, vōs, vōbīs   \n",
      "710                               vōtum, -ī   \n",
      "711                              vōx, vōcis   \n",
      "\n",
      "                                            Definition  Suggested Reading  \\\n",
      "0                 himself, herself, itself, themselves                1.1   \n",
      "1              from, away from, out of, by (with abl.)                1.1   \n",
      "2    to go from, go away, go off, go forth, go, depart                2.2   \n",
      "3                           to be away from, be absent                5.3   \n",
      "4    to go to, come to, come near, draw near, appro...                2.1   \n",
      "..                                                 ...                ...   \n",
      "707         satisfaction, enjoyment, pleasure, delight                3.6   \n",
      "708  to cause to revolve, roll, turn about, turn round                4.1   \n",
      "709                                       you (plural)                2.3   \n",
      "710  a promise to a god, solemn pledge, religious e...                5.1   \n",
      "711         a voice, sound, tone, utterance, cry, call                2.4   \n",
      "\n",
      "    Base Word  \n",
      "0           —  \n",
      "1           a  \n",
      "2        abeo  \n",
      "3       absum  \n",
      "4      accedo  \n",
      "..        ...  \n",
      "707  voluptas  \n",
      "708     volvo  \n",
      "709       vos  \n",
      "710     votum  \n",
      "711       vox  \n",
      "\n",
      "[712 rows x 4 columns]\n"
     ]
    }
   ],
   "source": [
    "print(df_ap_vocab)"
   ]
  },
  {
   "cell_type": "code",
   "execution_count": 25,
   "metadata": {},
   "outputs": [
    {
     "name": "stdout",
     "output_type": "stream",
     "text": [
      "['—', 'a', 'abeo', 'absum', 'accedo', 'accendo', 'accido', 'accipio', 'acies', 'ad', 'addo', 'adeo', 'adhuc', 'adsum', 'adsurgo', 'adversus', 'adversus', 'Aeneas', 'aequo', 'aequor', 'aetas', 'aether', 'affirmo', 'ager', 'agmen', 'ago', 'aio', 'Alexandrinus', 'alienus', 'aliqui', 'aliquis', 'alius', 'alter', 'altum', 'altus', 'amicus', 'amicus', 'amitto', 'amnis', 'amo', 'amor', 'amplector', 'an', 'anima', 'animus', 'annus', 'ante', 'antiquus', 'appareo', 'apud', 'aqua', 'ara', 'arbor', 'ardens', 'ardeo', 'arma', 'Arpocras', 'ars', 'arvum', 'arx', 'aspicio', 'at', 'ater', 'atque', 'audeo', 'audio', 'aura', 'auris', 'aurum', 'aut', 'autem', 'avunculus', 'beatus', 'bellum', 'bene', 'beneficium', 'bonus', 'cado', 'caedes', 'caelum', 'caligo', 'Camilla', 'campus', 'cano', 'capillus', 'capio', 'caput', 'carmen', 'Carthago', 'carus', 'castra', 'castrum', 'casus', 'catena', 'caterva', 'causa', 'cedo', 'celer', 'certus', 'ceterus', 'cingo', 'cinis', 'circum', 'civis', 'civitas', 'clarus', 'classis', 'claudo', 'clipeus', 'coepio', 'cognosco', 'cogo', 'colo', 'coma', 'comes', 'committo', 'compono', 'condo', 'coniunx', 'consilium', 'consul', 'consulo', 'contingo', 'contra', 'conubium', 'copia', 'corpus', 'corripio', 'credo', 'cresco', 'crimen', 'crudelis', 'cum', 'cum', 'cunctor', 'cunctus', 'cupio', 'cur', 'cura', 'currus', 'cursus', 'Danai', 'de', 'dea', 'debeo', 'deinde', 'densus', 'desero', 'desum', 'detineo', 'deus', 'dexter', 'dextra', 'Diana', 'dico', 'Dido', 'dies', 'dignus', 'disco', 'diu', 'diva', 'divus', 'do', 'doceo', 'dolor', 'domina', 'dominus', 'domus', 'donum', 'dubius', 'duco', 'dulcis', 'dum', 'duo', 'durus', 'dux', 'ecce', 'effundo', 'ego', 'egredior', 'enim', 'eo', 'eo', 'epistula', 'eques', 'equidem', 'equus', 'ergo', 'eripio', 'erro', 'et', 'etiam', 'ex', 'excipio', 'excito', 'exercitus', 'exigo', 'exitus', 'exspecto', 'exstinguo', 'extremus', 'facies', 'facilis', 'facio', 'fama', 'fatalis', 'fatum', 'felix', 'femina', 'fero', 'ferrum', 'ferus', 'fides', 'figura', 'fingo', 'finis', 'fio', 'flamma', 'flecto', 'fleo', 'fluctus', 'flumen', 'for', 'forma', 'formido', 'forte', 'fortis', 'fortuna', 'frango', 'frater', 'fuga', 'fugio', 'furor', 'futurus', 'Gaius', 'gaudeo', 'geminus', 'gemitus', 'gens', 'genus', 'gero', 'gloria', 'gradus', 'gratia', 'gratus', 'gravis', 'habeo', 'hasta', 'haud', 'haurio', 'hic', 'hic', 'hinc', 'historia', 'homo', 'honos', 'horrendus', 'horreo', 'hostis', 'huc', 'humanus', 'iaceo', 'iacto', 'iam', 'iatralipta', 'ibi', 'idem', 'igitur', 'ignis', 'ille', 'illic', 'imago', 'immineo', 'impello', 'imperator', 'imperium', 'impetus', 'implico', 'impono', 'in', 'incertus', 'incido', 'incipio', 'inde', 'infans', 'infelix', 'inferus', 'ingenium', 'ingens', 'inimicus', 'iniuria', 'inquam', 'intendo', 'inter', 'interdum', 'interim', 'invenio', 'ipse', 'ira', 'is', 'iste', 'ita', 'Italia', 'itaque', 'iter', 'iterum', 'iubeo', 'iugum', 'Iuno', 'Iuppiter', 'ius', 'iuvenis', 'iuvo', 'labor', 'labor', 'lacrima', 'laedo', 'laetus', 'Laocoon', 'lapis', 'Latium', 'latus', 'laudo', 'laus', 'legatus', 'legio', 'lego', 'levis', 'lex', 'liber', 'liber', 'liberta', 'libertas', 'licet', 'limen', 'litus', 'locus', 'longe', 'longus', 'loquor', 'lumen', 'lux', 'machina', 'magis', 'magnus', 'malum', 'malus', 'maneo', 'manus', 'mare', 'mater', 'maxime', 'medium', 'medius', 'membrum', 'memini', 'memor', 'mens', 'mereo', 'metuo', 'metus', 'meus', 'miles', 'mille', 'minus', 'misceo', 'Misenum', 'miser', 'mitto', 'modo', 'modus', 'moenia', 'mollis', 'mons', 'monstrum', 'mora', 'morior', 'moror', 'mors', 'mos', 'moveo', 'mox', 'multum', 'multus', 'mundus', 'munus', 'murus', 'muto', 'nam', 'narro', 'nascor', 'natura', 'natus', 'navis', '-ne', 'ne', 'nec', 'nego', 'nemo', 'nemus', 'ni', 'nihil', 'nisi', 'nobilis', 'nolo', 'nomen', 'non', 'nondum', 'nos', 'nosco', 'noster', 'notus', 'novus', 'nox', 'nubes', 'nubila', 'nullus', 'numen', 'numerus', 'numquam', 'nunc', 'nympha', 'o', 'ob', 'obscurus', 'occido', 'occupo', 'oculus', 'omnis', 'operio', 'ops', 'opto', 'opus', 'ora', 'orbis', 'ordo', 'oro', 'os', 'ostendo', 'Pallas', 'palma', 'par', 'parco', 'parens', 'pariter', 'paro', 'pars', 'parum', 'parvus', 'pater', 'patior', 'patria', 'patrona', 'paucus', 'paulum', 'pax', 'pectus', 'pendeo', 'per', 'perdo', 'pereo', 'periculum', 'pervenio', 'pes', 'peto', 'pharetra', 'placeo', 'plenus', 'Plinius', 'plus', 'poena', 'pono', 'populus', 'posco', 'possum', 'post', 'postquam', 'praesto', 'precor', 'premo', 'primum', 'primus', 'princeps', 'princeps', 'prior', 'prius', 'priusquam', 'pro', 'procul', 'proelium', 'proficiscor', 'prope', 'propero', 'propius', 'propter', 'prosum', 'proximus', 'puella', 'puer', 'pugna', 'pulcher', 'pumex', 'puto', 'qua', 'quaero', 'qualis', 'quam', 'quamquam', 'quamvis', 'quantus', 'quasi', 'quater', '-que', 'qui', 'quia', 'quicumque', 'quidam', 'quidem', 'quiesco', 'quin', 'quippe', 'quis', 'quis', 'quisquam', 'quisque', 'quisquis', 'quo', 'quod', 'quoque', 'rapio', 'ratio', 'recipio', 'reddo', 'redeo', 'refero', 'regina', 'regnum', 'rego', 'relinquo', 'requiro', 'res', 'resideo', 'respicio', 'respondeo', 'rex', 'rogo', 'Romanus', 'rumpo', 'rursus', 'sacer', 'saeculum', 'saepe', 'saevus', 'salus', 'sanguis', 'sapiens', 'satis', 'saxum', 'scelus', 'scio', 'scribo', 'sed', 'sedeo', 'sedes', 'semper', 'senatus', 'sentio', 'sequor', 'sermo', 'servo', 'servus', 'si', 'sic', 'sidus', 'signum', 'silva', 'similis', 'simul', 'sine', 'sinus', 'sive', 'socius', 'sol', 'soleo', 'solus', 'solvo', 'somnus', 'sono', 'soror', 'sors', 'spatium', 'specto', 'spes', 'spiritus', 'statim', 'sterno', 'stilus', 'sto', 'strideo', 'studium', 'sub', 'subito', 'subsisto', 'sum', 'summus', 'sumo', 'super', 'superbus', 'superus', 'surgo', 'suspendo', 'sustineo', 'suus', 'taceo', 'tacitus', 'talis', 'tam', 'tamen', 'tamquam', 'tandem', 'tantum', 'tantum', 'tantus', 'tectum', 'tego', 'tellus', 'telum', 'templum', 'tempto', 'tempus', 'tendo', 'tenebrae', 'teneo', 'tener', 'tergum', 'terra', 'Teucri', 'timeo', 'timor', 'tollo', 'torqueo', 'tot', 'totus', 'trado', 'traho', 'Traianus', 'transeo', 'tremor', 'tristis', 'Troia', 'Troianus', 'tu', 'tum', 'tunc', 'turba', 'Turnus', 'turpis', 'tutus', 'tuus', 'ubi', 'ullus', 'ultimus', 'umbra', 'umerus', 'umquam', 'unda', 'unde', 'unus', 'urbs', 'usus', 'ut', 'uterque', 'utor', 'valeo', 'varius', '-ve', 'vel', 'velut', 'venio', 'ventus', 'verbum', 'vero', 'vertex', 'verto', 'verus', 'vester', 'vestigium', 'vestis', 'vetus', 'via', 'victor', 'video', 'vinco', 'vinculum', 'vir', 'virgo', 'virtus', 'vis', 'vita', 'vitium', 'vivo', 'vix', 'voco', 'volnus', 'volo', 'volo', 'voltus', 'voluptas', 'volvo', 'vos', 'votum', 'vox']\n"
     ]
    }
   ],
   "source": [
    "list_ap_vocab = list(df_ap_vocab['Base Word'])\n",
    "print(list_ap_vocab)"
   ]
  },
  {
   "cell_type": "code",
   "execution_count": 48,
   "metadata": {},
   "outputs": [
    {
     "name": "stdout",
     "output_type": "stream",
     "text": [
      "omnis\n"
     ]
    }
   ],
   "source": [
    "for w in list_ap_vocab:\n",
    "    if w in ['omnis']:\n",
    "        print(w)"
   ]
  },
  {
   "cell_type": "code",
   "execution_count": 14,
   "metadata": {},
   "outputs": [
    {
     "name": "stdout",
     "output_type": "stream",
     "text": [
      "[verb, subordinating_conjunction, pronoun, noun, determiner, noun, verb, punctuation, pronoun, adverb, verb, adjective, verb, punctuation, noun, verb, punctuation, particle, verb, noun, pronoun, subordinating_conjunction, verb, adposition, pronoun, adjective, noun, auxiliary, verb, punctuation, numeral, adverb, particle, adjective, noun, noun, punctuation, subordinating_conjunction, noun, subordinating_conjunction, noun, adjective, noun, punctuation, subordinating_conjunction, adverb, verb, verb, punctuation, subordinating_conjunction, determiner, determiner, noun, coordinating_conjunction, adjective, verb, punctuation, adverb, adverb, noun, pronoun, verb, determiner, noun, verb, punctuation, numeral, verb, adjective, verb, punctuation, pronoun, noun, noun, verb, auxiliary, coordinating_conjunction, verb, verb, coordinating_conjunction, verb, verb, punctuation, adjective, particle, pronoun, determiner, punctuation, determiner, adposition, noun, noun, determiner, coordinating_conjunction, determiner, noun, coordinating_conjunction, determiner, auxiliary, punctuation, pronoun, adverb, verb, punctuation, verb, adverb, subordinating_conjunction, verb, punctuation]\n",
      "['Petis', 'ut', 'tibi', 'avunculi', 'mei', 'exitum', 'scribam', ',', 'quo', 'verius', 'tradere', 'posteris', 'possis', '.', 'Gratias', 'ago', ';', 'nam', 'video', 'morti', 'eius', 'si', 'celebretur', 'a', 'te', 'immortalem', 'gloriam', 'esse', 'propositam', '.', '2', 'Quamvis', 'enim', 'pulcherrimarum', 'clade', 'terrarum', ',', 'ut', 'populi', 'ut', 'urbes', 'memorabili', 'casu', ',', 'quasi', 'semper', 'victurus', 'occiderit', ',', 'quamvis', 'ipse', 'plurima', 'opera', 'et', 'mansura', 'condiderit', ',', 'multum', 'tamen', 'perpetuitati', 'eius', 'scriptorum', 'tuorum', 'aeternitas', 'addet', '.', '3', 'Equidem', 'beatos', 'puto', ',', 'quibus', 'deorum', 'munere', 'datum', 'est', 'aut', 'facere', 'scribenda', 'aut', 'scribere', 'legenda', ',', 'beatissimos', 'vero', 'quibus', 'utrumque', '.', 'Horum', 'in', 'numero', 'avunculus', 'meus', 'et', 'suis', 'libris', 'et', 'tuis', 'erit', '.', 'Quo', 'libentius', 'suscipio', ',', 'deposco', 'etiam', 'quod', 'iniungis', '.']\n",
      "['pego', 'ut', 'tu', 'avunculus', 'meus', 'exitus', 'scribo', ',', 'qui', 'verius', 'trado', 'posterus', 'possum', '.', 'gratia', 'ago', ';', 'nam', 'video', 'mors', 'is', 'si', 'celebo', 'ab', 'tu', 'immortalis', 'gloria', 'sum', 'propono', '.', '2', 'Quamvis', 'enim', 'pulcherrimus', 'cladus', 'terra', ',', 'ut', 'populus', 'ut', 'urbes', 'memorabilis', 'casus', ',', 'quasi', 'semper', 'vingo', 'occido', ',', 'quamvis', 'ipse', 'multus', 'opus', 'et', 'mansus', 'condo', ',', 'multum', 'tamen', 'perpetuitas', 'is', 'scribo', 'tuus', 'aeternitas', 'addo', '.', '3', 'equido', 'beatus', 'puto', ',', 'qui', 'deus', 'munus', 'do', 'sum', 'aut', 'facio', 'scribo', 'aut', 'scribo', 'lego', ',', 'beatus', 'vero', 'qui', 'uterque', '.', 'hic', 'in', 'numerus', 'avunculus', 'meus', 'et', 'suus', 'liber', 'et', 'tuus', 'sum', '.', 'qui', 'libenter', 'suscipio', ',', 'deposco', 'etiam', 'quod', 'iniungo', '.']\n",
      "Word: Petis                Lemma: pego\n",
      "Word: ut                   Lemma: ut\n",
      "Word: tibi                 Lemma: tu\n",
      "Word: avunculi             Lemma: avunculus\n",
      "Word: mei                  Lemma: meus\n",
      "Word: exitum               Lemma: exitus\n",
      "Word: scribam              Lemma: scribo\n",
      "Word: ,                    Lemma: ,\n",
      "Word: quo                  Lemma: qui\n",
      "Word: verius               Lemma: verius\n",
      "Word: tradere              Lemma: trado\n",
      "Word: posteris             Lemma: posterus\n",
      "Word: possis               Lemma: possum\n",
      "Word: .                    Lemma: .\n",
      "Word: Gratias              Lemma: gratia\n",
      "Word: ago                  Lemma: ago\n",
      "Word: ;                    Lemma: ;\n",
      "Word: nam                  Lemma: nam\n",
      "Word: video                Lemma: video\n",
      "Word: morti                Lemma: mors\n",
      "Word: eius                 Lemma: is\n",
      "Word: si                   Lemma: si\n",
      "Word: celebretur           Lemma: celebo\n",
      "Word: a                    Lemma: ab\n",
      "Word: te                   Lemma: tu\n",
      "Word: immortalem           Lemma: immortalis\n",
      "Word: gloriam              Lemma: gloria\n",
      "Word: esse                 Lemma: sum\n",
      "Word: propositam           Lemma: propono\n",
      "Word: .                    Lemma: .\n",
      "Word: 2                    Lemma: 2\n",
      "Word: Quamvis              Lemma: Quamvis\n",
      "Word: enim                 Lemma: enim\n",
      "Word: pulcherrimarum       Lemma: pulcherrimus\n",
      "Word: clade                Lemma: cladus\n",
      "Word: terrarum             Lemma: terra\n",
      "Word: ,                    Lemma: ,\n",
      "Word: ut                   Lemma: ut\n",
      "Word: populi               Lemma: populus\n",
      "Word: ut                   Lemma: ut\n",
      "Word: urbes                Lemma: urbes\n",
      "Word: memorabili           Lemma: memorabilis\n",
      "Word: casu                 Lemma: casus\n",
      "Word: ,                    Lemma: ,\n",
      "Word: quasi                Lemma: quasi\n",
      "Word: semper               Lemma: semper\n",
      "Word: victurus             Lemma: vingo\n",
      "Word: occiderit            Lemma: occido\n",
      "Word: ,                    Lemma: ,\n",
      "Word: quamvis              Lemma: quamvis\n",
      "Word: ipse                 Lemma: ipse\n",
      "Word: plurima              Lemma: multus\n",
      "Word: opera                Lemma: opus\n",
      "Word: et                   Lemma: et\n",
      "Word: mansura              Lemma: mansus\n",
      "Word: condiderit           Lemma: condo\n",
      "Word: ,                    Lemma: ,\n",
      "Word: multum               Lemma: multum\n",
      "Word: tamen                Lemma: tamen\n",
      "Word: perpetuitati         Lemma: perpetuitas\n",
      "Word: eius                 Lemma: is\n",
      "Word: scriptorum           Lemma: scribo\n",
      "Word: tuorum               Lemma: tuus\n",
      "Word: aeternitas           Lemma: aeternitas\n",
      "Word: addet                Lemma: addo\n",
      "Word: .                    Lemma: .\n",
      "Word: 3                    Lemma: 3\n",
      "Word: Equidem              Lemma: equido\n",
      "Word: beatos               Lemma: beatus\n",
      "Word: puto                 Lemma: puto\n",
      "Word: ,                    Lemma: ,\n",
      "Word: quibus               Lemma: qui\n",
      "Word: deorum               Lemma: deus\n",
      "Word: munere               Lemma: munus\n",
      "Word: datum                Lemma: do\n",
      "Word: est                  Lemma: sum\n",
      "Word: aut                  Lemma: aut\n",
      "Word: facere               Lemma: facio\n",
      "Word: scribenda            Lemma: scribo\n",
      "Word: aut                  Lemma: aut\n",
      "Word: scribere             Lemma: scribo\n",
      "Word: legenda              Lemma: lego\n",
      "Word: ,                    Lemma: ,\n",
      "Word: beatissimos          Lemma: beatus\n",
      "Word: vero                 Lemma: vero\n",
      "Word: quibus               Lemma: qui\n",
      "Word: utrumque             Lemma: uterque\n",
      "Word: .                    Lemma: .\n",
      "Word: Horum                Lemma: hic\n",
      "Word: in                   Lemma: in\n",
      "Word: numero               Lemma: numerus\n",
      "Word: avunculus            Lemma: avunculus\n",
      "Word: meus                 Lemma: meus\n",
      "Word: et                   Lemma: et\n",
      "Word: suis                 Lemma: suus\n",
      "Word: libris               Lemma: liber\n",
      "Word: et                   Lemma: et\n",
      "Word: tuis                 Lemma: tuus\n",
      "Word: erit                 Lemma: sum\n",
      "Word: .                    Lemma: .\n",
      "Word: Quo                  Lemma: qui\n",
      "Word: libentius            Lemma: libenter\n",
      "Word: suscipio             Lemma: suscipio\n",
      "Word: ,                    Lemma: ,\n",
      "Word: deposco              Lemma: deposco\n",
      "Word: etiam                Lemma: etiam\n",
      "Word: quod                 Lemma: quod\n",
      "Word: iniungis             Lemma: iniungo\n",
      "Word: .                    Lemma: .\n"
     ]
    }
   ],
   "source": [
    "# Process the text\n",
    "doc = nlp.analyze(text=text)\n",
    "\n",
    "#print(doc.words)\n",
    "\n",
    "# Get lemmas\n",
    "lemmas = [word.lemma for word in doc.words]\n",
    "list_pos = [word.pos for word in doc.words]\n",
    "\n",
    "list_words = [word.string for word in doc.words]\n",
    "\n",
    "print(list_pos)\n",
    "print(list_words)\n",
    "print(lemmas)\n",
    "\n",
    "# Print original words and their lemmas\n",
    "for word, lemma in zip([word.string for word in doc.words], lemmas):\n",
    "   print(f\"Word: {word:<20} Lemma: {lemma}\")"
   ]
  },
  {
   "cell_type": "code",
   "execution_count": 50,
   "metadata": {},
   "outputs": [],
   "source": [
    "text_input = input(\"Enter the Text: \")"
   ]
  },
  {
   "cell_type": "code",
   "execution_count": 51,
   "metadata": {},
   "outputs": [
    {
     "name": "stdout",
     "output_type": "stream",
     "text": [
      "['Vertit', 'ille', 'consilium', 'et', 'quod', 'studioso', 'animo', 'incohaverat', 'obit', 'maximo', '.', 'Deducit', 'quadriremes', ',', 'ascendit', 'ipse', 'non', 'Rectinae', 'modo', 'sed', 'multis', '—', 'erat', 'enim', 'frequens', 'amoenitas', 'orae', '—', 'laturus', 'auxilium', '.', '10', 'Properat', 'illuc', 'unde', 'alii', 'fugiunt', ',', 'rectumque', 'cursum', 'recta', 'gubernacula', 'in', 'periculum', 'tenet', 'adeo', 'solutus', 'metu', ',', 'ut', 'omnes', 'illius', 'mali', 'motus', 'omnes', 'figuras', 'ut', 'deprenderat', 'oculis', 'dictaret', 'enotaretque', '.']\n",
      "['vertior', 'ille', 'consilium', 'et', 'qui', 'studiosus', 'animus', 'incoho', 'obeo', 'magnus', '.', 'deduco', 'quadrirem', ',', 'ascendo', 'ipse', 'non', 'rectinus', 'modus', 'sed', 'multus', '—', 'sum', 'enim', 'frequens', 'amoenitas', 'ora', '—', 'latuo', 'auxilium', '.', '10', 'propero', 'illuc', 'unde', 'alius', 'fugio', ',', 'rectumquus', 'cursus', 'rectus', 'gubernaculum', 'in', 'periculum', 'teneo', 'adeo', 'soluo', 'metus', ',', 'ut', 'omnis', 'ille', 'malum', 'motus', 'omnis', 'figura', 'ut', 'deprendero', 'oculus', 'dicto', 'enoto', '.']\n",
      "[verb, determiner, noun, coordinating_conjunction, pronoun, adjective, noun, verb, verb, adjective, punctuation, verb, noun, punctuation, verb, determiner, particle, adjective, noun, coordinating_conjunction, determiner, punctuation, auxiliary, particle, adjective, noun, noun, coordinating_conjunction, verb, noun, punctuation, numeral, verb, noun, adverb, determiner, verb, punctuation, adjective, noun, adjective, noun, adposition, noun, verb, adverb, verb, noun, punctuation, subordinating_conjunction, determiner, determiner, noun, noun, determiner, noun, subordinating_conjunction, verb, noun, verb, verb, punctuation]\n"
     ]
    }
   ],
   "source": [
    "# Process the text\n",
    "doc = nlp.analyze(text=text_input)\n",
    "\n",
    "#print(doc.words)\n",
    "\n",
    "# Get lemmas\n",
    "list_lemmas = [word.lemma for word in doc.words]\n",
    "list_pos = [word.pos for word in doc.words]\n",
    "\n",
    "list_words = [word.string for word in doc.words]\n",
    "print(list_words)\n",
    "print(list_lemmas)\n",
    "print(list_pos)"
   ]
  },
  {
   "cell_type": "code",
   "execution_count": 54,
   "metadata": {},
   "outputs": [
    {
     "name": "stdout",
     "output_type": "stream",
     "text": [
      "ille ille\n",
      "consilium consilium\n",
      "et et\n",
      "quod qui\n",
      "animo animus\n",
      "maximo magnus\n",
      "ipse ipse\n",
      "non non\n",
      "modo modus\n",
      "sed sed\n",
      "multis multus\n",
      "— —\n",
      "erat sum\n",
      "enim enim\n",
      "orae ora\n",
      "— —\n",
      "Properat propero\n",
      "unde unde\n",
      "alii alius\n",
      "fugiunt fugio\n",
      "cursum cursus\n",
      "in in\n",
      "periculum periculum\n",
      "tenet teneo\n",
      "adeo adeo\n",
      "metu metus\n",
      "ut ut\n",
      "omnes omnis\n",
      "illius ille\n",
      "mali malum\n",
      "omnes omnis\n",
      "figuras figura\n",
      "ut ut\n",
      "oculis oculus\n"
     ]
    }
   ],
   "source": [
    "words_list = text.split()\n",
    "vocab_list = list_ap_vocab\n",
    "overlap_lemmas = []\n",
    "overlap_words = []\n",
    "for word, lemma in zip(list_words, list_lemmas):\n",
    "    if lemma in vocab_list:\n",
    "        overlap_lemmas.append(lemma)\n",
    "        overlap_words.append(word)\n",
    "\n",
    "\n",
    "for word, lemma in zip(overlap_words, overlap_lemmas):\n",
    "    print(word, lemma)\n",
    "\n"
   ]
  },
  {
   "cell_type": "code",
   "execution_count": 47,
   "metadata": {},
   "outputs": [
    {
     "name": "stdout",
     "output_type": "stream",
     "text": [
      "Vertit ille consilium et quod studioso animo incohaverat obit maximo. Deducit quadriremes, ascendit ipse non Rectinae modo sed multis — erat enim frequens amoenitas orae — laturus auxilium. 10 Properat illuc unde alii fugiunt, rectumque cursum recta gubernacula in periculum tenet adeo solutus metu, ut omnes illius mali motus omnes figuras ut deprenderat oculis dictaret enotaretque.\n"
     ]
    }
   ],
   "source": [
    "print(text_input)"
   ]
  }
 ],
 "metadata": {
  "kernelspec": {
   "display_name": "Python 3",
   "language": "python",
   "name": "python3"
  },
  "language_info": {
   "codemirror_mode": {
    "name": "ipython",
    "version": 3
   },
   "file_extension": ".py",
   "mimetype": "text/x-python",
   "name": "python",
   "nbconvert_exporter": "python",
   "pygments_lexer": "ipython3",
   "version": "3.9.21"
  }
 },
 "nbformat": 4,
 "nbformat_minor": 2
}
