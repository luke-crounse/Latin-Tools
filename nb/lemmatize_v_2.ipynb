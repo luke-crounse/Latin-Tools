{
 "cells": [
  {
   "cell_type": "code",
   "execution_count": 14,
   "metadata": {},
   "outputs": [],
   "source": [
    "from cltk import NLP\n",
    "from cltk.languages.utils import get_lang\n",
    "\n",
    "#from unidecode import unidecode\n",
    "\n",
    "from pathlib import Path\n",
    "\n",
    "import pandas as pd"
   ]
  },
  {
   "cell_type": "code",
   "execution_count": 15,
   "metadata": {},
   "outputs": [
    {
     "name": "stdout",
     "output_type": "stream",
     "text": [
      "‎𐤀 CLTK version '1.5.0'. When using the CLTK in research, please cite: https://aclanthology.org/2021.acl-demo.3/\n",
      "\n",
      "Pipeline for language 'Latin' (ISO: 'lat'): `LatinNormalizeProcess`, `LatinStanzaProcess`, `LatinEmbeddingsProcess`, `StopsProcess`, `LatinLexiconProcess`.\n",
      "\n",
      "⸖ ``LatinStanzaProcess`` using Stanza model from the Stanford NLP Group: https://stanfordnlp.github.io/stanza/ . Please cite: https://arxiv.org/abs/2003.07082\n",
      "⸖ ``LatinEmbeddingsProcess`` using word2vec model by University of Oslo from http://vectors.nlpl.eu/ . Please cite: https://aclanthology.org/W17-0237/\n",
      "⸖ ``LatinLexiconProcess`` using Lewis's *An Elementary Latin Dictionary* (1890).\n",
      "\n",
      "⸎ To suppress these messages, instantiate ``NLP()`` with ``suppress_banner=True``.\n"
     ]
    }
   ],
   "source": [
    "# Initialize the Latin pipeline\n",
    "nlp = NLP(language=\"lat\")"
   ]
  },
  {
   "cell_type": "code",
   "execution_count": 16,
   "metadata": {},
   "outputs": [],
   "source": [
    "# New version!\n",
    "fn_ap = Path('..') / 'Files' / 'ap-latin-draft-course-framework-vocab-list-revised.csv'\n",
    "\n",
    "df_ap_vocab = pd.read_csv(fn_ap)"
   ]
  },
  {
   "cell_type": "code",
   "execution_count": 17,
   "metadata": {},
   "outputs": [],
   "source": [
    "text_input = input(\"Enter the Text: \")"
   ]
  },
  {
   "cell_type": "code",
   "execution_count": 18,
   "metadata": {},
   "outputs": [],
   "source": [
    "# Process the text\n",
    "doc = nlp.analyze(text=text_input)\n",
    "\n",
    "#print(doc.words)\n",
    "\n",
    "# Get lemmas\n",
    "list_lemmas = [word.lemma for word in doc.words]\n",
    "list_pos = [word.pos for word in doc.words]\n",
    "\n",
    "list_words = [word.string for word in doc.words]"
   ]
  },
  {
   "cell_type": "code",
   "execution_count": 19,
   "metadata": {},
   "outputs": [],
   "source": [
    "df_input = pd.DataFrame({\n",
    "    \"Word\": list_words,\n",
    "    \"POS\": list_pos,\n",
    "    \"Lemma\": list_lemmas\n",
    "})"
   ]
  },
  {
   "cell_type": "code",
   "execution_count": 20,
   "metadata": {},
   "outputs": [
    {
     "name": "stdout",
     "output_type": "stream",
     "text": [
      "                                  Vocabulary Part of Speech  \\\n",
      "0                                 a, ab, abs    preposition   \n",
      "1                     abeo, -ire, -ii, -itum           verb   \n",
      "2                        absum, abesse, afui           verb   \n",
      "3     accedo (adc-), -ere, -cessi, \\n-cessum           verb   \n",
      "4    accendo (adc-), -ere, -cendi, \\n-censum           verb   \n",
      "..                                       ...            ...   \n",
      "995                           votum, -i (n.)           noun   \n",
      "996                          vox, vocis (f.)           noun   \n",
      "997   vulnero (volnero), -are, -avi, \\n-atum           verb   \n",
      "998              vulnus (volnus), -eris (n.)           noun   \n",
      "999                vultus (voltus), -us (m.)           noun   \n",
      "\n",
      "                                            Definition  Suggested Reading  \\\n",
      "0              (with abl.) from, away from, out of, by                1.1   \n",
      "1    to go from, go away, go off, go forth, go, \\nd...                1.1   \n",
      "2                           to be away from, be absent                5.3   \n",
      "3    to go to, come to, come near, draw near, \\napp...                2.1   \n",
      "4                      to kindle, set on fire, inflame                3.6   \n",
      "..                                                 ...                ...   \n",
      "995             a promise to a god, solemn pledge, vow                5.1   \n",
      "996         a voice, sound, tone, utterance, cry, call                2.4   \n",
      "997             to wound, harm, pain, distress; damage                6.2   \n",
      "998                                            a wound                5.3   \n",
      "999  countenance, features, expression, aspect; \\nface                5.3   \n",
      "\n",
      "    Base Word  \n",
      "0           a  \n",
      "1        abeo  \n",
      "2       absum  \n",
      "3      accedo  \n",
      "4     accendo  \n",
      "..        ...  \n",
      "995     votum  \n",
      "996       vox  \n",
      "997   vulnero  \n",
      "998    vulnus  \n",
      "999    vultus  \n",
      "\n",
      "[1000 rows x 5 columns]\n"
     ]
    }
   ],
   "source": [
    "print(df_ap_vocab)"
   ]
  },
  {
   "cell_type": "code",
   "execution_count": 21,
   "metadata": {},
   "outputs": [],
   "source": [
    "df_merged = pd.merge(df_input, df_ap_vocab, how='left', left_on='Lemma', right_on = 'Base Word')"
   ]
  },
  {
   "cell_type": "code",
   "execution_count": 22,
   "metadata": {},
   "outputs": [],
   "source": [
    "df_matches = df_merged[~df_merged[\"Base Word\"].isna()]"
   ]
  },
  {
   "cell_type": "code",
   "execution_count": 23,
   "metadata": {},
   "outputs": [
    {
     "data": {
      "text/html": [
       "<div>\n",
       "<style scoped>\n",
       "    .dataframe tbody tr th:only-of-type {\n",
       "        vertical-align: middle;\n",
       "    }\n",
       "\n",
       "    .dataframe tbody tr th {\n",
       "        vertical-align: top;\n",
       "    }\n",
       "\n",
       "    .dataframe thead th {\n",
       "        text-align: right;\n",
       "    }\n",
       "</style>\n",
       "<table border=\"1\" class=\"dataframe\">\n",
       "  <thead>\n",
       "    <tr style=\"text-align: right;\">\n",
       "      <th></th>\n",
       "      <th>Word</th>\n",
       "      <th>POS</th>\n",
       "      <th>Lemma</th>\n",
       "      <th>Vocabulary</th>\n",
       "      <th>Part of Speech</th>\n",
       "      <th>Definition</th>\n",
       "      <th>Suggested Reading</th>\n",
       "      <th>Base Word</th>\n",
       "    </tr>\n",
       "  </thead>\n",
       "  <tbody>\n",
       "    <tr>\n",
       "      <th>0</th>\n",
       "      <td>Arma</td>\n",
       "      <td>8</td>\n",
       "      <td>arma</td>\n",
       "      <td>arma, -orum (n. pl.)</td>\n",
       "      <td>noun</td>\n",
       "      <td>implements, outfit, instruments, tools; \\nimpl...</td>\n",
       "      <td>1.3</td>\n",
       "      <td>arma</td>\n",
       "    </tr>\n",
       "    <tr>\n",
       "      <th>4</th>\n",
       "      <td>qui</td>\n",
       "      <td>12</td>\n",
       "      <td>qui</td>\n",
       "      <td>qui, quae, quod</td>\n",
       "      <td>pronoun/adjective</td>\n",
       "      <td>who, which, that</td>\n",
       "      <td>1.1</td>\n",
       "      <td>qui</td>\n",
       "    </tr>\n",
       "    <tr>\n",
       "      <th>5</th>\n",
       "      <td>primus</td>\n",
       "      <td>1</td>\n",
       "      <td>primus</td>\n",
       "      <td>primus, -a, -um</td>\n",
       "      <td>adjective</td>\n",
       "      <td>the first, first</td>\n",
       "      <td>1.3</td>\n",
       "      <td>primus</td>\n",
       "    </tr>\n",
       "    <tr>\n",
       "      <th>8</th>\n",
       "      <td>sumus</td>\n",
       "      <td>4</td>\n",
       "      <td>sum</td>\n",
       "      <td>sum, esse, fui</td>\n",
       "      <td>verb</td>\n",
       "      <td>to be</td>\n",
       "      <td>1.1</td>\n",
       "      <td>sum</td>\n",
       "    </tr>\n",
       "    <tr>\n",
       "      <th>10</th>\n",
       "      <td>maximux</td>\n",
       "      <td>1</td>\n",
       "      <td>magnus</td>\n",
       "      <td>magnus, -a, -um</td>\n",
       "      <td>adjective</td>\n",
       "      <td>great, large</td>\n",
       "      <td>1.1</td>\n",
       "      <td>magnus</td>\n",
       "    </tr>\n",
       "  </tbody>\n",
       "</table>\n",
       "</div>"
      ],
      "text/plain": [
       "       Word  POS   Lemma            Vocabulary     Part of Speech  \\\n",
       "0      Arma    8    arma  arma, -orum (n. pl.)               noun   \n",
       "4       qui   12     qui       qui, quae, quod  pronoun/adjective   \n",
       "5    primus    1  primus       primus, -a, -um          adjective   \n",
       "8     sumus    4     sum        sum, esse, fui               verb   \n",
       "10  maximux    1  magnus       magnus, -a, -um          adjective   \n",
       "\n",
       "                                           Definition  Suggested Reading  \\\n",
       "0   implements, outfit, instruments, tools; \\nimpl...                1.3   \n",
       "4                                    who, which, that                1.1   \n",
       "5                                    the first, first                1.3   \n",
       "8                                               to be                1.1   \n",
       "10                                       great, large                1.1   \n",
       "\n",
       "   Base Word  \n",
       "0       arma  \n",
       "4        qui  \n",
       "5     primus  \n",
       "8        sum  \n",
       "10    magnus  "
      ]
     },
     "execution_count": 23,
     "metadata": {},
     "output_type": "execute_result"
    }
   ],
   "source": [
    "df_matches"
   ]
  },
  {
   "cell_type": "code",
   "execution_count": 24,
   "metadata": {},
   "outputs": [],
   "source": [
    "df_output = df_matches[[\"Word\", \"Vocabulary\", \"Definition\"]]"
   ]
  },
  {
   "cell_type": "code",
   "execution_count": 25,
   "metadata": {},
   "outputs": [],
   "source": [
    "df_output.to_csv(Path(\"..\") / \"Files\" / \"Vocab_list.csv\")"
   ]
  },
  {
   "cell_type": "code",
   "execution_count": 26,
   "metadata": {},
   "outputs": [
    {
     "name": "stdout",
     "output_type": "stream",
     "text": [
      "arma, -orum (n. pl.): implements, outfit, instruments, tools; \n",
      "implements of war, arms, weapons\n",
      "qui, quae, quod: who, which, that\n",
      "primus, -a, -um: the first, first\n",
      "sum, esse, fui: to be\n",
      "magnus, -a, -um: great, large\n"
     ]
    }
   ],
   "source": [
    "for i, r in df_output.iterrows():\n",
    "    print(r[\"Vocabulary\"] + \": \" + r[\"Definition\"])"
   ]
  }
 ],
 "metadata": {
  "kernelspec": {
   "display_name": "Python 3",
   "language": "python",
   "name": "python3"
  },
  "language_info": {
   "codemirror_mode": {
    "name": "ipython",
    "version": 3
   },
   "file_extension": ".py",
   "mimetype": "text/x-python",
   "name": "python",
   "nbconvert_exporter": "python",
   "pygments_lexer": "ipython3",
   "version": "3.9.23"
  }
 },
 "nbformat": 4,
 "nbformat_minor": 2
}
